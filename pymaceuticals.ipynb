{
 "cells": [
  {
   "cell_type": "code",
   "execution_count": 1,
   "id": "d6715d58",
   "metadata": {},
   "outputs": [
    {
     "data": {
      "text/plain": [
       "'C:\\\\Users\\\\Alec\\\\Documents\\\\Programming Resources\\\\Boot Camp\\\\05_Matplotlib\\\\matplotlib-challenge'"
      ]
     },
     "execution_count": 1,
     "metadata": {},
     "output_type": "execute_result"
    }
   ],
   "source": [
    "# dependencies\n",
    "import matplotlib.pyplot as plt\n",
    "import pandas as pd\n",
    "import scipy.stats as st\n",
    "import os\n",
    "os.getcwd()"
   ]
  },
  {
   "cell_type": "code",
   "execution_count": 2,
   "id": "c3f2bf62",
   "metadata": {},
   "outputs": [],
   "source": [
    "mouse_metadata = 'resources/mouse_metadata.csv'\n",
    "study_results = 'resources/study_results.csv'"
   ]
  },
  {
   "cell_type": "markdown",
   "id": "08fd1643",
   "metadata": {},
   "source": [
    "## Preview Data Mouse Metadata -----------------------------------"
   ]
  },
  {
   "cell_type": "code",
   "execution_count": 3,
   "id": "f41c106b",
   "metadata": {},
   "outputs": [
    {
     "data": {
      "text/html": [
       "<div>\n",
       "<style scoped>\n",
       "    .dataframe tbody tr th:only-of-type {\n",
       "        vertical-align: middle;\n",
       "    }\n",
       "\n",
       "    .dataframe tbody tr th {\n",
       "        vertical-align: top;\n",
       "    }\n",
       "\n",
       "    .dataframe thead th {\n",
       "        text-align: right;\n",
       "    }\n",
       "</style>\n",
       "<table border=\"1\" class=\"dataframe\">\n",
       "  <thead>\n",
       "    <tr style=\"text-align: right;\">\n",
       "      <th></th>\n",
       "      <th>Mouse ID</th>\n",
       "      <th>Drug Regimen</th>\n",
       "      <th>Sex</th>\n",
       "      <th>Age_months</th>\n",
       "      <th>Weight (g)</th>\n",
       "    </tr>\n",
       "  </thead>\n",
       "  <tbody>\n",
       "    <tr>\n",
       "      <th>0</th>\n",
       "      <td>k403</td>\n",
       "      <td>Ramicane</td>\n",
       "      <td>Male</td>\n",
       "      <td>21</td>\n",
       "      <td>16</td>\n",
       "    </tr>\n",
       "    <tr>\n",
       "      <th>1</th>\n",
       "      <td>s185</td>\n",
       "      <td>Capomulin</td>\n",
       "      <td>Female</td>\n",
       "      <td>3</td>\n",
       "      <td>17</td>\n",
       "    </tr>\n",
       "    <tr>\n",
       "      <th>2</th>\n",
       "      <td>x401</td>\n",
       "      <td>Capomulin</td>\n",
       "      <td>Female</td>\n",
       "      <td>16</td>\n",
       "      <td>15</td>\n",
       "    </tr>\n",
       "    <tr>\n",
       "      <th>3</th>\n",
       "      <td>m601</td>\n",
       "      <td>Capomulin</td>\n",
       "      <td>Male</td>\n",
       "      <td>22</td>\n",
       "      <td>17</td>\n",
       "    </tr>\n",
       "    <tr>\n",
       "      <th>4</th>\n",
       "      <td>g791</td>\n",
       "      <td>Ramicane</td>\n",
       "      <td>Male</td>\n",
       "      <td>11</td>\n",
       "      <td>16</td>\n",
       "    </tr>\n",
       "  </tbody>\n",
       "</table>\n",
       "</div>"
      ],
      "text/plain": [
       "  Mouse ID Drug Regimen     Sex  Age_months  Weight (g)\n",
       "0     k403     Ramicane    Male          21          16\n",
       "1     s185    Capomulin  Female           3          17\n",
       "2     x401    Capomulin  Female          16          15\n",
       "3     m601    Capomulin    Male          22          17\n",
       "4     g791     Ramicane    Male          11          16"
      ]
     },
     "execution_count": 3,
     "metadata": {},
     "output_type": "execute_result"
    }
   ],
   "source": [
    "mouse_metadata_df = pd.read_csv(mouse_metadata)\n",
    "mouse_metadata_df.head()"
   ]
  },
  {
   "cell_type": "code",
   "execution_count": 4,
   "id": "310d6d14",
   "metadata": {},
   "outputs": [
    {
     "data": {
      "text/html": [
       "<div>\n",
       "<style scoped>\n",
       "    .dataframe tbody tr th:only-of-type {\n",
       "        vertical-align: middle;\n",
       "    }\n",
       "\n",
       "    .dataframe tbody tr th {\n",
       "        vertical-align: top;\n",
       "    }\n",
       "\n",
       "    .dataframe thead th {\n",
       "        text-align: right;\n",
       "    }\n",
       "</style>\n",
       "<table border=\"1\" class=\"dataframe\">\n",
       "  <thead>\n",
       "    <tr style=\"text-align: right;\">\n",
       "      <th></th>\n",
       "      <th>Age_months</th>\n",
       "      <th>Weight (g)</th>\n",
       "    </tr>\n",
       "  </thead>\n",
       "  <tbody>\n",
       "    <tr>\n",
       "      <th>count</th>\n",
       "      <td>249.000000</td>\n",
       "      <td>249.000000</td>\n",
       "    </tr>\n",
       "    <tr>\n",
       "      <th>mean</th>\n",
       "      <td>12.730924</td>\n",
       "      <td>26.116466</td>\n",
       "    </tr>\n",
       "    <tr>\n",
       "      <th>std</th>\n",
       "      <td>7.228687</td>\n",
       "      <td>3.697003</td>\n",
       "    </tr>\n",
       "    <tr>\n",
       "      <th>min</th>\n",
       "      <td>1.000000</td>\n",
       "      <td>15.000000</td>\n",
       "    </tr>\n",
       "    <tr>\n",
       "      <th>25%</th>\n",
       "      <td>6.000000</td>\n",
       "      <td>25.000000</td>\n",
       "    </tr>\n",
       "    <tr>\n",
       "      <th>50%</th>\n",
       "      <td>13.000000</td>\n",
       "      <td>27.000000</td>\n",
       "    </tr>\n",
       "    <tr>\n",
       "      <th>75%</th>\n",
       "      <td>19.000000</td>\n",
       "      <td>29.000000</td>\n",
       "    </tr>\n",
       "    <tr>\n",
       "      <th>max</th>\n",
       "      <td>24.000000</td>\n",
       "      <td>30.000000</td>\n",
       "    </tr>\n",
       "  </tbody>\n",
       "</table>\n",
       "</div>"
      ],
      "text/plain": [
       "       Age_months  Weight (g)\n",
       "count  249.000000  249.000000\n",
       "mean    12.730924   26.116466\n",
       "std      7.228687    3.697003\n",
       "min      1.000000   15.000000\n",
       "25%      6.000000   25.000000\n",
       "50%     13.000000   27.000000\n",
       "75%     19.000000   29.000000\n",
       "max     24.000000   30.000000"
      ]
     },
     "execution_count": 4,
     "metadata": {},
     "output_type": "execute_result"
    }
   ],
   "source": [
    "mouse_metadata_df.describe()"
   ]
  },
  {
   "cell_type": "code",
   "execution_count": 5,
   "id": "f3263e7f",
   "metadata": {},
   "outputs": [
    {
     "data": {
      "text/plain": [
       "Mouse ID        249\n",
       "Drug Regimen    249\n",
       "Sex             249\n",
       "Age_months      249\n",
       "Weight (g)      249\n",
       "dtype: int64"
      ]
     },
     "execution_count": 5,
     "metadata": {},
     "output_type": "execute_result"
    }
   ],
   "source": [
    "mouse_metadata_df.count()"
   ]
  },
  {
   "cell_type": "code",
   "execution_count": 6,
   "id": "96e9d350",
   "metadata": {},
   "outputs": [
    {
     "data": {
      "text/plain": [
       "249"
      ]
     },
     "execution_count": 6,
     "metadata": {},
     "output_type": "execute_result"
    }
   ],
   "source": [
    "# Check Mouse Number\n",
    "mouse_count = len(mouse_metadata_df['Mouse ID'].unique())\n",
    "mouse_count"
   ]
  },
  {
   "cell_type": "markdown",
   "id": "db872f28",
   "metadata": {},
   "source": [
    "## Preview Study Data --------------------------------------------"
   ]
  },
  {
   "cell_type": "code",
   "execution_count": 7,
   "id": "e4ee74ed",
   "metadata": {},
   "outputs": [
    {
     "data": {
      "text/html": [
       "<div>\n",
       "<style scoped>\n",
       "    .dataframe tbody tr th:only-of-type {\n",
       "        vertical-align: middle;\n",
       "    }\n",
       "\n",
       "    .dataframe tbody tr th {\n",
       "        vertical-align: top;\n",
       "    }\n",
       "\n",
       "    .dataframe thead th {\n",
       "        text-align: right;\n",
       "    }\n",
       "</style>\n",
       "<table border=\"1\" class=\"dataframe\">\n",
       "  <thead>\n",
       "    <tr style=\"text-align: right;\">\n",
       "      <th></th>\n",
       "      <th>Mouse ID</th>\n",
       "      <th>Timepoint</th>\n",
       "      <th>Tumor Volume (mm3)</th>\n",
       "      <th>Metastatic Sites</th>\n",
       "    </tr>\n",
       "  </thead>\n",
       "  <tbody>\n",
       "    <tr>\n",
       "      <th>0</th>\n",
       "      <td>b128</td>\n",
       "      <td>0</td>\n",
       "      <td>45.0</td>\n",
       "      <td>0</td>\n",
       "    </tr>\n",
       "    <tr>\n",
       "      <th>1</th>\n",
       "      <td>f932</td>\n",
       "      <td>0</td>\n",
       "      <td>45.0</td>\n",
       "      <td>0</td>\n",
       "    </tr>\n",
       "    <tr>\n",
       "      <th>2</th>\n",
       "      <td>g107</td>\n",
       "      <td>0</td>\n",
       "      <td>45.0</td>\n",
       "      <td>0</td>\n",
       "    </tr>\n",
       "    <tr>\n",
       "      <th>3</th>\n",
       "      <td>a457</td>\n",
       "      <td>0</td>\n",
       "      <td>45.0</td>\n",
       "      <td>0</td>\n",
       "    </tr>\n",
       "    <tr>\n",
       "      <th>4</th>\n",
       "      <td>c819</td>\n",
       "      <td>0</td>\n",
       "      <td>45.0</td>\n",
       "      <td>0</td>\n",
       "    </tr>\n",
       "  </tbody>\n",
       "</table>\n",
       "</div>"
      ],
      "text/plain": [
       "  Mouse ID  Timepoint  Tumor Volume (mm3)  Metastatic Sites\n",
       "0     b128          0                45.0                 0\n",
       "1     f932          0                45.0                 0\n",
       "2     g107          0                45.0                 0\n",
       "3     a457          0                45.0                 0\n",
       "4     c819          0                45.0                 0"
      ]
     },
     "execution_count": 7,
     "metadata": {},
     "output_type": "execute_result"
    }
   ],
   "source": [
    "study_results_df = pd.read_csv(study_results)\n",
    "study_results_df.head()"
   ]
  },
  {
   "cell_type": "code",
   "execution_count": 8,
   "id": "d34f21d2",
   "metadata": {},
   "outputs": [
    {
     "data": {
      "text/html": [
       "<div>\n",
       "<style scoped>\n",
       "    .dataframe tbody tr th:only-of-type {\n",
       "        vertical-align: middle;\n",
       "    }\n",
       "\n",
       "    .dataframe tbody tr th {\n",
       "        vertical-align: top;\n",
       "    }\n",
       "\n",
       "    .dataframe thead th {\n",
       "        text-align: right;\n",
       "    }\n",
       "</style>\n",
       "<table border=\"1\" class=\"dataframe\">\n",
       "  <thead>\n",
       "    <tr style=\"text-align: right;\">\n",
       "      <th></th>\n",
       "      <th>Timepoint</th>\n",
       "      <th>Tumor Volume (mm3)</th>\n",
       "      <th>Metastatic Sites</th>\n",
       "    </tr>\n",
       "  </thead>\n",
       "  <tbody>\n",
       "    <tr>\n",
       "      <th>count</th>\n",
       "      <td>1893.000000</td>\n",
       "      <td>1893.000000</td>\n",
       "      <td>1893.000000</td>\n",
       "    </tr>\n",
       "    <tr>\n",
       "      <th>mean</th>\n",
       "      <td>19.572108</td>\n",
       "      <td>50.448381</td>\n",
       "      <td>1.021659</td>\n",
       "    </tr>\n",
       "    <tr>\n",
       "      <th>std</th>\n",
       "      <td>14.079460</td>\n",
       "      <td>8.894722</td>\n",
       "      <td>1.137974</td>\n",
       "    </tr>\n",
       "    <tr>\n",
       "      <th>min</th>\n",
       "      <td>0.000000</td>\n",
       "      <td>22.050126</td>\n",
       "      <td>0.000000</td>\n",
       "    </tr>\n",
       "    <tr>\n",
       "      <th>25%</th>\n",
       "      <td>5.000000</td>\n",
       "      <td>45.000000</td>\n",
       "      <td>0.000000</td>\n",
       "    </tr>\n",
       "    <tr>\n",
       "      <th>50%</th>\n",
       "      <td>20.000000</td>\n",
       "      <td>48.951474</td>\n",
       "      <td>1.000000</td>\n",
       "    </tr>\n",
       "    <tr>\n",
       "      <th>75%</th>\n",
       "      <td>30.000000</td>\n",
       "      <td>56.292200</td>\n",
       "      <td>2.000000</td>\n",
       "    </tr>\n",
       "    <tr>\n",
       "      <th>max</th>\n",
       "      <td>45.000000</td>\n",
       "      <td>78.567014</td>\n",
       "      <td>4.000000</td>\n",
       "    </tr>\n",
       "  </tbody>\n",
       "</table>\n",
       "</div>"
      ],
      "text/plain": [
       "         Timepoint  Tumor Volume (mm3)  Metastatic Sites\n",
       "count  1893.000000         1893.000000       1893.000000\n",
       "mean     19.572108           50.448381          1.021659\n",
       "std      14.079460            8.894722          1.137974\n",
       "min       0.000000           22.050126          0.000000\n",
       "25%       5.000000           45.000000          0.000000\n",
       "50%      20.000000           48.951474          1.000000\n",
       "75%      30.000000           56.292200          2.000000\n",
       "max      45.000000           78.567014          4.000000"
      ]
     },
     "execution_count": 8,
     "metadata": {},
     "output_type": "execute_result"
    }
   ],
   "source": [
    "study_results_df.describe()"
   ]
  },
  {
   "cell_type": "code",
   "execution_count": 9,
   "id": "be51fc62",
   "metadata": {},
   "outputs": [
    {
     "data": {
      "text/plain": [
       "Mouse ID              1893\n",
       "Timepoint             1893\n",
       "Tumor Volume (mm3)    1893\n",
       "Metastatic Sites      1893\n",
       "dtype: int64"
      ]
     },
     "execution_count": 9,
     "metadata": {},
     "output_type": "execute_result"
    }
   ],
   "source": [
    "study_results_df.count()"
   ]
  },
  {
   "cell_type": "markdown",
   "id": "7200fbeb",
   "metadata": {},
   "source": [
    "# Merge Dataframes -----------------------------------------"
   ]
  },
  {
   "cell_type": "code",
   "execution_count": 10,
   "id": "b3a8bb5a",
   "metadata": {},
   "outputs": [],
   "source": [
    "combined_df = pd.merge(mouse_metadata_df, study_results_df, how='outer', on=['Mouse ID'])"
   ]
  },
  {
   "cell_type": "code",
   "execution_count": 11,
   "id": "29d9496f",
   "metadata": {},
   "outputs": [
    {
     "data": {
      "text/html": [
       "<div>\n",
       "<style scoped>\n",
       "    .dataframe tbody tr th:only-of-type {\n",
       "        vertical-align: middle;\n",
       "    }\n",
       "\n",
       "    .dataframe tbody tr th {\n",
       "        vertical-align: top;\n",
       "    }\n",
       "\n",
       "    .dataframe thead th {\n",
       "        text-align: right;\n",
       "    }\n",
       "</style>\n",
       "<table border=\"1\" class=\"dataframe\">\n",
       "  <thead>\n",
       "    <tr style=\"text-align: right;\">\n",
       "      <th></th>\n",
       "      <th>Age_months</th>\n",
       "      <th>Weight (g)</th>\n",
       "      <th>Timepoint</th>\n",
       "      <th>Tumor Volume (mm3)</th>\n",
       "      <th>Metastatic Sites</th>\n",
       "    </tr>\n",
       "  </thead>\n",
       "  <tbody>\n",
       "    <tr>\n",
       "      <th>count</th>\n",
       "      <td>1893.000000</td>\n",
       "      <td>1893.000000</td>\n",
       "      <td>1893.000000</td>\n",
       "      <td>1893.000000</td>\n",
       "      <td>1893.000000</td>\n",
       "    </tr>\n",
       "    <tr>\n",
       "      <th>mean</th>\n",
       "      <td>12.814580</td>\n",
       "      <td>25.662441</td>\n",
       "      <td>19.572108</td>\n",
       "      <td>50.448381</td>\n",
       "      <td>1.021659</td>\n",
       "    </tr>\n",
       "    <tr>\n",
       "      <th>std</th>\n",
       "      <td>7.189592</td>\n",
       "      <td>3.921622</td>\n",
       "      <td>14.079460</td>\n",
       "      <td>8.894722</td>\n",
       "      <td>1.137974</td>\n",
       "    </tr>\n",
       "    <tr>\n",
       "      <th>min</th>\n",
       "      <td>1.000000</td>\n",
       "      <td>15.000000</td>\n",
       "      <td>0.000000</td>\n",
       "      <td>22.050126</td>\n",
       "      <td>0.000000</td>\n",
       "    </tr>\n",
       "    <tr>\n",
       "      <th>25%</th>\n",
       "      <td>7.000000</td>\n",
       "      <td>25.000000</td>\n",
       "      <td>5.000000</td>\n",
       "      <td>45.000000</td>\n",
       "      <td>0.000000</td>\n",
       "    </tr>\n",
       "    <tr>\n",
       "      <th>50%</th>\n",
       "      <td>13.000000</td>\n",
       "      <td>27.000000</td>\n",
       "      <td>20.000000</td>\n",
       "      <td>48.951474</td>\n",
       "      <td>1.000000</td>\n",
       "    </tr>\n",
       "    <tr>\n",
       "      <th>75%</th>\n",
       "      <td>20.000000</td>\n",
       "      <td>29.000000</td>\n",
       "      <td>30.000000</td>\n",
       "      <td>56.292200</td>\n",
       "      <td>2.000000</td>\n",
       "    </tr>\n",
       "    <tr>\n",
       "      <th>max</th>\n",
       "      <td>24.000000</td>\n",
       "      <td>30.000000</td>\n",
       "      <td>45.000000</td>\n",
       "      <td>78.567014</td>\n",
       "      <td>4.000000</td>\n",
       "    </tr>\n",
       "  </tbody>\n",
       "</table>\n",
       "</div>"
      ],
      "text/plain": [
       "        Age_months   Weight (g)    Timepoint  Tumor Volume (mm3)  \\\n",
       "count  1893.000000  1893.000000  1893.000000         1893.000000   \n",
       "mean     12.814580    25.662441    19.572108           50.448381   \n",
       "std       7.189592     3.921622    14.079460            8.894722   \n",
       "min       1.000000    15.000000     0.000000           22.050126   \n",
       "25%       7.000000    25.000000     5.000000           45.000000   \n",
       "50%      13.000000    27.000000    20.000000           48.951474   \n",
       "75%      20.000000    29.000000    30.000000           56.292200   \n",
       "max      24.000000    30.000000    45.000000           78.567014   \n",
       "\n",
       "       Metastatic Sites  \n",
       "count       1893.000000  \n",
       "mean           1.021659  \n",
       "std            1.137974  \n",
       "min            0.000000  \n",
       "25%            0.000000  \n",
       "50%            1.000000  \n",
       "75%            2.000000  \n",
       "max            4.000000  "
      ]
     },
     "execution_count": 11,
     "metadata": {},
     "output_type": "execute_result"
    }
   ],
   "source": [
    "combined_df.describe()"
   ]
  },
  {
   "cell_type": "code",
   "execution_count": 12,
   "id": "74928704",
   "metadata": {},
   "outputs": [
    {
     "data": {
      "text/plain": [
       "Mouse ID              1893\n",
       "Drug Regimen          1893\n",
       "Sex                   1893\n",
       "Age_months            1893\n",
       "Weight (g)            1893\n",
       "Timepoint             1893\n",
       "Tumor Volume (mm3)    1893\n",
       "Metastatic Sites      1893\n",
       "dtype: int64"
      ]
     },
     "execution_count": 12,
     "metadata": {},
     "output_type": "execute_result"
    }
   ],
   "source": [
    "combined_df.count()"
   ]
  },
  {
   "cell_type": "code",
   "execution_count": 13,
   "id": "21a4418d",
   "metadata": {},
   "outputs": [
    {
     "data": {
      "text/html": [
       "<div>\n",
       "<style scoped>\n",
       "    .dataframe tbody tr th:only-of-type {\n",
       "        vertical-align: middle;\n",
       "    }\n",
       "\n",
       "    .dataframe tbody tr th {\n",
       "        vertical-align: top;\n",
       "    }\n",
       "\n",
       "    .dataframe thead th {\n",
       "        text-align: right;\n",
       "    }\n",
       "</style>\n",
       "<table border=\"1\" class=\"dataframe\">\n",
       "  <thead>\n",
       "    <tr style=\"text-align: right;\">\n",
       "      <th></th>\n",
       "      <th>Mouse ID</th>\n",
       "      <th>Drug Regimen</th>\n",
       "      <th>Sex</th>\n",
       "      <th>Age_months</th>\n",
       "      <th>Weight (g)</th>\n",
       "      <th>Timepoint</th>\n",
       "      <th>Tumor Volume (mm3)</th>\n",
       "      <th>Metastatic Sites</th>\n",
       "    </tr>\n",
       "  </thead>\n",
       "  <tbody>\n",
       "    <tr>\n",
       "      <th>0</th>\n",
       "      <td>k403</td>\n",
       "      <td>Ramicane</td>\n",
       "      <td>Male</td>\n",
       "      <td>21</td>\n",
       "      <td>16</td>\n",
       "      <td>0</td>\n",
       "      <td>45.000000</td>\n",
       "      <td>0</td>\n",
       "    </tr>\n",
       "    <tr>\n",
       "      <th>1</th>\n",
       "      <td>k403</td>\n",
       "      <td>Ramicane</td>\n",
       "      <td>Male</td>\n",
       "      <td>21</td>\n",
       "      <td>16</td>\n",
       "      <td>5</td>\n",
       "      <td>38.825898</td>\n",
       "      <td>0</td>\n",
       "    </tr>\n",
       "    <tr>\n",
       "      <th>2</th>\n",
       "      <td>k403</td>\n",
       "      <td>Ramicane</td>\n",
       "      <td>Male</td>\n",
       "      <td>21</td>\n",
       "      <td>16</td>\n",
       "      <td>10</td>\n",
       "      <td>35.014271</td>\n",
       "      <td>1</td>\n",
       "    </tr>\n",
       "    <tr>\n",
       "      <th>3</th>\n",
       "      <td>k403</td>\n",
       "      <td>Ramicane</td>\n",
       "      <td>Male</td>\n",
       "      <td>21</td>\n",
       "      <td>16</td>\n",
       "      <td>15</td>\n",
       "      <td>34.223992</td>\n",
       "      <td>1</td>\n",
       "    </tr>\n",
       "    <tr>\n",
       "      <th>4</th>\n",
       "      <td>k403</td>\n",
       "      <td>Ramicane</td>\n",
       "      <td>Male</td>\n",
       "      <td>21</td>\n",
       "      <td>16</td>\n",
       "      <td>20</td>\n",
       "      <td>32.997729</td>\n",
       "      <td>1</td>\n",
       "    </tr>\n",
       "    <tr>\n",
       "      <th>5</th>\n",
       "      <td>k403</td>\n",
       "      <td>Ramicane</td>\n",
       "      <td>Male</td>\n",
       "      <td>21</td>\n",
       "      <td>16</td>\n",
       "      <td>25</td>\n",
       "      <td>33.464577</td>\n",
       "      <td>1</td>\n",
       "    </tr>\n",
       "    <tr>\n",
       "      <th>6</th>\n",
       "      <td>k403</td>\n",
       "      <td>Ramicane</td>\n",
       "      <td>Male</td>\n",
       "      <td>21</td>\n",
       "      <td>16</td>\n",
       "      <td>30</td>\n",
       "      <td>31.099498</td>\n",
       "      <td>1</td>\n",
       "    </tr>\n",
       "    <tr>\n",
       "      <th>7</th>\n",
       "      <td>k403</td>\n",
       "      <td>Ramicane</td>\n",
       "      <td>Male</td>\n",
       "      <td>21</td>\n",
       "      <td>16</td>\n",
       "      <td>35</td>\n",
       "      <td>26.546993</td>\n",
       "      <td>1</td>\n",
       "    </tr>\n",
       "    <tr>\n",
       "      <th>8</th>\n",
       "      <td>k403</td>\n",
       "      <td>Ramicane</td>\n",
       "      <td>Male</td>\n",
       "      <td>21</td>\n",
       "      <td>16</td>\n",
       "      <td>40</td>\n",
       "      <td>24.365505</td>\n",
       "      <td>1</td>\n",
       "    </tr>\n",
       "    <tr>\n",
       "      <th>9</th>\n",
       "      <td>k403</td>\n",
       "      <td>Ramicane</td>\n",
       "      <td>Male</td>\n",
       "      <td>21</td>\n",
       "      <td>16</td>\n",
       "      <td>45</td>\n",
       "      <td>22.050126</td>\n",
       "      <td>1</td>\n",
       "    </tr>\n",
       "    <tr>\n",
       "      <th>10</th>\n",
       "      <td>s185</td>\n",
       "      <td>Capomulin</td>\n",
       "      <td>Female</td>\n",
       "      <td>3</td>\n",
       "      <td>17</td>\n",
       "      <td>0</td>\n",
       "      <td>45.000000</td>\n",
       "      <td>0</td>\n",
       "    </tr>\n",
       "    <tr>\n",
       "      <th>11</th>\n",
       "      <td>s185</td>\n",
       "      <td>Capomulin</td>\n",
       "      <td>Female</td>\n",
       "      <td>3</td>\n",
       "      <td>17</td>\n",
       "      <td>5</td>\n",
       "      <td>43.878496</td>\n",
       "      <td>0</td>\n",
       "    </tr>\n",
       "    <tr>\n",
       "      <th>12</th>\n",
       "      <td>s185</td>\n",
       "      <td>Capomulin</td>\n",
       "      <td>Female</td>\n",
       "      <td>3</td>\n",
       "      <td>17</td>\n",
       "      <td>10</td>\n",
       "      <td>37.614948</td>\n",
       "      <td>0</td>\n",
       "    </tr>\n",
       "    <tr>\n",
       "      <th>13</th>\n",
       "      <td>s185</td>\n",
       "      <td>Capomulin</td>\n",
       "      <td>Female</td>\n",
       "      <td>3</td>\n",
       "      <td>17</td>\n",
       "      <td>15</td>\n",
       "      <td>38.177232</td>\n",
       "      <td>0</td>\n",
       "    </tr>\n",
       "    <tr>\n",
       "      <th>14</th>\n",
       "      <td>s185</td>\n",
       "      <td>Capomulin</td>\n",
       "      <td>Female</td>\n",
       "      <td>3</td>\n",
       "      <td>17</td>\n",
       "      <td>20</td>\n",
       "      <td>36.866876</td>\n",
       "      <td>0</td>\n",
       "    </tr>\n",
       "  </tbody>\n",
       "</table>\n",
       "</div>"
      ],
      "text/plain": [
       "   Mouse ID Drug Regimen     Sex  Age_months  Weight (g)  Timepoint  \\\n",
       "0      k403     Ramicane    Male          21          16          0   \n",
       "1      k403     Ramicane    Male          21          16          5   \n",
       "2      k403     Ramicane    Male          21          16         10   \n",
       "3      k403     Ramicane    Male          21          16         15   \n",
       "4      k403     Ramicane    Male          21          16         20   \n",
       "5      k403     Ramicane    Male          21          16         25   \n",
       "6      k403     Ramicane    Male          21          16         30   \n",
       "7      k403     Ramicane    Male          21          16         35   \n",
       "8      k403     Ramicane    Male          21          16         40   \n",
       "9      k403     Ramicane    Male          21          16         45   \n",
       "10     s185    Capomulin  Female           3          17          0   \n",
       "11     s185    Capomulin  Female           3          17          5   \n",
       "12     s185    Capomulin  Female           3          17         10   \n",
       "13     s185    Capomulin  Female           3          17         15   \n",
       "14     s185    Capomulin  Female           3          17         20   \n",
       "\n",
       "    Tumor Volume (mm3)  Metastatic Sites  \n",
       "0            45.000000                 0  \n",
       "1            38.825898                 0  \n",
       "2            35.014271                 1  \n",
       "3            34.223992                 1  \n",
       "4            32.997729                 1  \n",
       "5            33.464577                 1  \n",
       "6            31.099498                 1  \n",
       "7            26.546993                 1  \n",
       "8            24.365505                 1  \n",
       "9            22.050126                 1  \n",
       "10           45.000000                 0  \n",
       "11           43.878496                 0  \n",
       "12           37.614948                 0  \n",
       "13           38.177232                 0  \n",
       "14           36.866876                 0  "
      ]
     },
     "execution_count": 13,
     "metadata": {},
     "output_type": "execute_result"
    }
   ],
   "source": [
    "combined_df.head(15)"
   ]
  },
  {
   "cell_type": "markdown",
   "id": "2a66c67d",
   "metadata": {},
   "source": [
    "### Who has Duplicate Values? Are there NaN Values?"
   ]
  },
  {
   "cell_type": "code",
   "execution_count": 14,
   "id": "3af6eb0f",
   "metadata": {},
   "outputs": [
    {
     "data": {
      "text/plain": [
       "array(['g989'], dtype=object)"
      ]
     },
     "execution_count": 14,
     "metadata": {},
     "output_type": "execute_result"
    }
   ],
   "source": [
    "# use .duplicated to preserve data on duplicates instead of just dropping them\n",
    "who_has_dupes = combined_df.loc[combined_df.duplicated(subset=['Mouse ID', 'Timepoint'], keep=False)]\n",
    "\n",
    "duplicate_mouse_data = who_has_dupes\n",
    "\n",
    "# capture only unique data, turn into list for filtering later\n",
    "duplicate_mouse_list = who_has_dupes['Mouse ID'].unique()\n",
    "duplicate_mouse_list\n",
    "\n",
    "# Compare counts to OG counts above (1893)\n",
    "# dupe_test_combined_df = combined_df.drop_duplicates()\n",
    "# dupe_test_combined_df.count()\n",
    "\n",
    "# NaN_test_df = combined_df.dropna(how='any')\n",
    "# NaN_test_df.count()"
   ]
  },
  {
   "cell_type": "markdown",
   "id": "cc2141c2",
   "metadata": {},
   "source": [
    "## Drop Duplicate Values"
   ]
  },
  {
   "cell_type": "code",
   "execution_count": 15,
   "id": "a9cbd245",
   "metadata": {},
   "outputs": [
    {
     "data": {
      "text/plain": [
       "Mouse ID              1880\n",
       "Drug Regimen          1880\n",
       "Sex                   1880\n",
       "Age_months            1880\n",
       "Weight (g)            1880\n",
       "Timepoint             1880\n",
       "Tumor Volume (mm3)    1880\n",
       "Metastatic Sites      1880\n",
       "dtype: int64"
      ]
     },
     "execution_count": 15,
     "metadata": {},
     "output_type": "execute_result"
    }
   ],
   "source": [
    "#drop all dataframe entries matching Duplicate Mouse List\n",
    "# use .isin to return values in a given list, the '~' acts as a NOT operator\n",
    "# new_df = old_df['NOT'old_df['column'].isin(list)]\n",
    "# ==> Return all values in data frame that are not in this list\n",
    "clean_df = combined_df[~combined_df['Mouse ID'].isin(duplicate_mouse_list)]\n",
    "clean_df.count()"
   ]
  },
  {
   "cell_type": "code",
   "execution_count": 16,
   "id": "437b9b09",
   "metadata": {},
   "outputs": [
    {
     "data": {
      "text/html": [
       "<div>\n",
       "<style scoped>\n",
       "    .dataframe tbody tr th:only-of-type {\n",
       "        vertical-align: middle;\n",
       "    }\n",
       "\n",
       "    .dataframe tbody tr th {\n",
       "        vertical-align: top;\n",
       "    }\n",
       "\n",
       "    .dataframe thead th {\n",
       "        text-align: right;\n",
       "    }\n",
       "</style>\n",
       "<table border=\"1\" class=\"dataframe\">\n",
       "  <thead>\n",
       "    <tr style=\"text-align: right;\">\n",
       "      <th></th>\n",
       "      <th>Mouse ID</th>\n",
       "      <th>Drug Regimen</th>\n",
       "      <th>Sex</th>\n",
       "      <th>Age_months</th>\n",
       "      <th>Weight (g)</th>\n",
       "      <th>Timepoint</th>\n",
       "      <th>Tumor Volume (mm3)</th>\n",
       "      <th>Metastatic Sites</th>\n",
       "    </tr>\n",
       "  </thead>\n",
       "  <tbody>\n",
       "    <tr>\n",
       "      <th>0</th>\n",
       "      <td>k403</td>\n",
       "      <td>Ramicane</td>\n",
       "      <td>Male</td>\n",
       "      <td>21</td>\n",
       "      <td>16</td>\n",
       "      <td>0</td>\n",
       "      <td>45.000000</td>\n",
       "      <td>0</td>\n",
       "    </tr>\n",
       "    <tr>\n",
       "      <th>1</th>\n",
       "      <td>k403</td>\n",
       "      <td>Ramicane</td>\n",
       "      <td>Male</td>\n",
       "      <td>21</td>\n",
       "      <td>16</td>\n",
       "      <td>5</td>\n",
       "      <td>38.825898</td>\n",
       "      <td>0</td>\n",
       "    </tr>\n",
       "    <tr>\n",
       "      <th>2</th>\n",
       "      <td>k403</td>\n",
       "      <td>Ramicane</td>\n",
       "      <td>Male</td>\n",
       "      <td>21</td>\n",
       "      <td>16</td>\n",
       "      <td>10</td>\n",
       "      <td>35.014271</td>\n",
       "      <td>1</td>\n",
       "    </tr>\n",
       "    <tr>\n",
       "      <th>3</th>\n",
       "      <td>k403</td>\n",
       "      <td>Ramicane</td>\n",
       "      <td>Male</td>\n",
       "      <td>21</td>\n",
       "      <td>16</td>\n",
       "      <td>15</td>\n",
       "      <td>34.223992</td>\n",
       "      <td>1</td>\n",
       "    </tr>\n",
       "    <tr>\n",
       "      <th>4</th>\n",
       "      <td>k403</td>\n",
       "      <td>Ramicane</td>\n",
       "      <td>Male</td>\n",
       "      <td>21</td>\n",
       "      <td>16</td>\n",
       "      <td>20</td>\n",
       "      <td>32.997729</td>\n",
       "      <td>1</td>\n",
       "    </tr>\n",
       "    <tr>\n",
       "      <th>5</th>\n",
       "      <td>k403</td>\n",
       "      <td>Ramicane</td>\n",
       "      <td>Male</td>\n",
       "      <td>21</td>\n",
       "      <td>16</td>\n",
       "      <td>25</td>\n",
       "      <td>33.464577</td>\n",
       "      <td>1</td>\n",
       "    </tr>\n",
       "    <tr>\n",
       "      <th>6</th>\n",
       "      <td>k403</td>\n",
       "      <td>Ramicane</td>\n",
       "      <td>Male</td>\n",
       "      <td>21</td>\n",
       "      <td>16</td>\n",
       "      <td>30</td>\n",
       "      <td>31.099498</td>\n",
       "      <td>1</td>\n",
       "    </tr>\n",
       "    <tr>\n",
       "      <th>7</th>\n",
       "      <td>k403</td>\n",
       "      <td>Ramicane</td>\n",
       "      <td>Male</td>\n",
       "      <td>21</td>\n",
       "      <td>16</td>\n",
       "      <td>35</td>\n",
       "      <td>26.546993</td>\n",
       "      <td>1</td>\n",
       "    </tr>\n",
       "    <tr>\n",
       "      <th>8</th>\n",
       "      <td>k403</td>\n",
       "      <td>Ramicane</td>\n",
       "      <td>Male</td>\n",
       "      <td>21</td>\n",
       "      <td>16</td>\n",
       "      <td>40</td>\n",
       "      <td>24.365505</td>\n",
       "      <td>1</td>\n",
       "    </tr>\n",
       "    <tr>\n",
       "      <th>9</th>\n",
       "      <td>k403</td>\n",
       "      <td>Ramicane</td>\n",
       "      <td>Male</td>\n",
       "      <td>21</td>\n",
       "      <td>16</td>\n",
       "      <td>45</td>\n",
       "      <td>22.050126</td>\n",
       "      <td>1</td>\n",
       "    </tr>\n",
       "  </tbody>\n",
       "</table>\n",
       "</div>"
      ],
      "text/plain": [
       "  Mouse ID Drug Regimen   Sex  Age_months  Weight (g)  Timepoint  \\\n",
       "0     k403     Ramicane  Male          21          16          0   \n",
       "1     k403     Ramicane  Male          21          16          5   \n",
       "2     k403     Ramicane  Male          21          16         10   \n",
       "3     k403     Ramicane  Male          21          16         15   \n",
       "4     k403     Ramicane  Male          21          16         20   \n",
       "5     k403     Ramicane  Male          21          16         25   \n",
       "6     k403     Ramicane  Male          21          16         30   \n",
       "7     k403     Ramicane  Male          21          16         35   \n",
       "8     k403     Ramicane  Male          21          16         40   \n",
       "9     k403     Ramicane  Male          21          16         45   \n",
       "\n",
       "   Tumor Volume (mm3)  Metastatic Sites  \n",
       "0           45.000000                 0  \n",
       "1           38.825898                 0  \n",
       "2           35.014271                 1  \n",
       "3           34.223992                 1  \n",
       "4           32.997729                 1  \n",
       "5           33.464577                 1  \n",
       "6           31.099498                 1  \n",
       "7           26.546993                 1  \n",
       "8           24.365505                 1  \n",
       "9           22.050126                 1  "
      ]
     },
     "execution_count": 16,
     "metadata": {},
     "output_type": "execute_result"
    }
   ],
   "source": [
    "clean_df.head(10)"
   ]
  },
  {
   "cell_type": "markdown",
   "id": "f026be49",
   "metadata": {},
   "source": [
    "# Search for a Mouse --------------------------------------"
   ]
  },
  {
   "cell_type": "code",
   "execution_count": 17,
   "id": "3ed92412",
   "metadata": {},
   "outputs": [],
   "source": [
    "# Search for a mouse based on ID\n",
    "\n",
    "# mouse_id = input('Enter Mouse ID, then press SHFT+ENTR. ')\n",
    "# find_mouse = combined_df.loc[combined_df['Mouse ID'] == str.lower(mouse_id)]\n",
    "# find_mouse\n",
    "\n",
    "# --------------- Clean Data Frame Below --------------------------\n",
    "\n",
    "# mouse_id = input('Enter Mouse ID, then press ENTER. ')\n",
    "# find_mouse = clean_df.loc[clean_df['Mouse ID'] == str.lower(mouse_id).strip()]\n",
    "# find_mouse"
   ]
  },
  {
   "cell_type": "markdown",
   "id": "80b482e9",
   "metadata": {},
   "source": [
    "# --------------------------------------------------------------------"
   ]
  },
  {
   "cell_type": "markdown",
   "id": "39524561",
   "metadata": {},
   "source": [
    "## Post-cleaning Mouse Count"
   ]
  },
  {
   "cell_type": "code",
   "execution_count": 18,
   "id": "dc608c56",
   "metadata": {},
   "outputs": [
    {
     "name": "stdout",
     "output_type": "stream",
     "text": [
      "The original number of Mouse ID's was 249. After cleaning, the number is 248. \n"
     ]
    }
   ],
   "source": [
    "# check number of mice in clean dataframe\n",
    "mouse_count_new = len(clean_df['Mouse ID'].unique())\n",
    "print(f\"The original number of Mouse ID's was {mouse_count}. After cleaning, the number is {mouse_count_new}. \")"
   ]
  },
  {
   "cell_type": "code",
   "execution_count": 19,
   "id": "4c61b9a8",
   "metadata": {},
   "outputs": [],
   "source": [
    "# this is to assist with some copy/paste action of column names\n",
    "column_list = clean_df.columns.to_list()"
   ]
  },
  {
   "cell_type": "code",
   "execution_count": 20,
   "id": "9ff78953",
   "metadata": {
    "scrolled": true
   },
   "outputs": [
    {
     "data": {
      "text/html": [
       "<div>\n",
       "<style scoped>\n",
       "    .dataframe tbody tr th:only-of-type {\n",
       "        vertical-align: middle;\n",
       "    }\n",
       "\n",
       "    .dataframe tbody tr th {\n",
       "        vertical-align: top;\n",
       "    }\n",
       "\n",
       "    .dataframe thead th {\n",
       "        text-align: right;\n",
       "    }\n",
       "</style>\n",
       "<table border=\"1\" class=\"dataframe\">\n",
       "  <thead>\n",
       "    <tr style=\"text-align: right;\">\n",
       "      <th></th>\n",
       "      <th>Mean Tumor Vol mm3</th>\n",
       "      <th>Median Tumor Vol mm3</th>\n",
       "      <th>Variance of Tumor Vol mm3</th>\n",
       "      <th>Std. Dev. Tumor Vol mm3</th>\n",
       "      <th>Std. Err. Tumor Vol mm3</th>\n",
       "    </tr>\n",
       "    <tr>\n",
       "      <th>Drug Regimen</th>\n",
       "      <th></th>\n",
       "      <th></th>\n",
       "      <th></th>\n",
       "      <th></th>\n",
       "      <th></th>\n",
       "    </tr>\n",
       "  </thead>\n",
       "  <tbody>\n",
       "    <tr>\n",
       "      <th>Capomulin</th>\n",
       "      <td>40.676</td>\n",
       "      <td>41.558</td>\n",
       "      <td>24.948</td>\n",
       "      <td>4.995</td>\n",
       "      <td>0.329</td>\n",
       "    </tr>\n",
       "    <tr>\n",
       "      <th>Ceftamin</th>\n",
       "      <td>52.591</td>\n",
       "      <td>51.776</td>\n",
       "      <td>39.290</td>\n",
       "      <td>6.268</td>\n",
       "      <td>0.470</td>\n",
       "    </tr>\n",
       "    <tr>\n",
       "      <th>Infubinol</th>\n",
       "      <td>52.885</td>\n",
       "      <td>51.821</td>\n",
       "      <td>43.129</td>\n",
       "      <td>6.567</td>\n",
       "      <td>0.492</td>\n",
       "    </tr>\n",
       "    <tr>\n",
       "      <th>Ketapril</th>\n",
       "      <td>55.236</td>\n",
       "      <td>53.699</td>\n",
       "      <td>68.554</td>\n",
       "      <td>8.280</td>\n",
       "      <td>0.604</td>\n",
       "    </tr>\n",
       "    <tr>\n",
       "      <th>Naftisol</th>\n",
       "      <td>54.332</td>\n",
       "      <td>52.509</td>\n",
       "      <td>66.173</td>\n",
       "      <td>8.135</td>\n",
       "      <td>0.596</td>\n",
       "    </tr>\n",
       "    <tr>\n",
       "      <th>Placebo</th>\n",
       "      <td>54.034</td>\n",
       "      <td>52.289</td>\n",
       "      <td>61.168</td>\n",
       "      <td>7.821</td>\n",
       "      <td>0.581</td>\n",
       "    </tr>\n",
       "    <tr>\n",
       "      <th>Propriva</th>\n",
       "      <td>52.321</td>\n",
       "      <td>50.446</td>\n",
       "      <td>43.852</td>\n",
       "      <td>6.622</td>\n",
       "      <td>0.544</td>\n",
       "    </tr>\n",
       "    <tr>\n",
       "      <th>Ramicane</th>\n",
       "      <td>40.217</td>\n",
       "      <td>40.673</td>\n",
       "      <td>23.487</td>\n",
       "      <td>4.846</td>\n",
       "      <td>0.321</td>\n",
       "    </tr>\n",
       "    <tr>\n",
       "      <th>Stelasyn</th>\n",
       "      <td>54.233</td>\n",
       "      <td>52.432</td>\n",
       "      <td>59.451</td>\n",
       "      <td>7.710</td>\n",
       "      <td>0.573</td>\n",
       "    </tr>\n",
       "    <tr>\n",
       "      <th>Zoniferol</th>\n",
       "      <td>53.237</td>\n",
       "      <td>51.818</td>\n",
       "      <td>48.533</td>\n",
       "      <td>6.967</td>\n",
       "      <td>0.516</td>\n",
       "    </tr>\n",
       "  </tbody>\n",
       "</table>\n",
       "</div>"
      ],
      "text/plain": [
       "             Mean Tumor Vol mm3 Median Tumor Vol mm3  \\\n",
       "Drug Regimen                                           \n",
       "Capomulin                40.676               41.558   \n",
       "Ceftamin                 52.591               51.776   \n",
       "Infubinol                52.885               51.821   \n",
       "Ketapril                 55.236               53.699   \n",
       "Naftisol                 54.332               52.509   \n",
       "Placebo                  54.034               52.289   \n",
       "Propriva                 52.321               50.446   \n",
       "Ramicane                 40.217               40.673   \n",
       "Stelasyn                 54.233               52.432   \n",
       "Zoniferol                53.237               51.818   \n",
       "\n",
       "             Variance of Tumor Vol mm3 Std. Dev. Tumor Vol mm3  \\\n",
       "Drug Regimen                                                     \n",
       "Capomulin                       24.948                   4.995   \n",
       "Ceftamin                        39.290                   6.268   \n",
       "Infubinol                       43.129                   6.567   \n",
       "Ketapril                        68.554                   8.280   \n",
       "Naftisol                        66.173                   8.135   \n",
       "Placebo                         61.168                   7.821   \n",
       "Propriva                        43.852                   6.622   \n",
       "Ramicane                        23.487                   4.846   \n",
       "Stelasyn                        59.451                   7.710   \n",
       "Zoniferol                       48.533                   6.967   \n",
       "\n",
       "             Std. Err. Tumor Vol mm3  \n",
       "Drug Regimen                          \n",
       "Capomulin                      0.329  \n",
       "Ceftamin                       0.470  \n",
       "Infubinol                      0.492  \n",
       "Ketapril                       0.604  \n",
       "Naftisol                       0.596  \n",
       "Placebo                        0.581  \n",
       "Propriva                       0.544  \n",
       "Ramicane                       0.321  \n",
       "Stelasyn                       0.573  \n",
       "Zoniferol                      0.516  "
      ]
     },
     "execution_count": 20,
     "metadata": {},
     "output_type": "execute_result"
    }
   ],
   "source": [
    " # Generate a summary statistics table of mean, median, variance, standard deviation,\n",
    "    #and SEM of the tumor volume for each regimen\n",
    "\n",
    "tVol_mean = clean_df.groupby('Drug Regimen').mean()['Tumor Volume (mm3)']\n",
    "tVol_median = clean_df.groupby('Drug Regimen').median()['Tumor Volume (mm3)']\n",
    "tVol_variance = clean_df.groupby('Drug Regimen').var()['Tumor Volume (mm3)']\n",
    "tVol_std = clean_df.groupby('Drug Regimen').std()['Tumor Volume (mm3)']\n",
    "tVol_SEM = clean_df.groupby('Drug Regimen').sem()['Tumor Volume (mm3)']\n",
    "\n",
    "# Assemble the resulting series into a single summary dataframe.\n",
    "\n",
    "tVol_dReg_df = pd.DataFrame({\n",
    "    'Mean Tumor Vol mm3': tVol_mean,\n",
    "    'Median Tumor Vol mm3': tVol_median,\n",
    "    'Variance of Tumor Vol mm3': tVol_variance,\n",
    "    'Std. Dev. Tumor Vol mm3': tVol_std,\n",
    "    'Std. Err. Tumor Vol mm3': tVol_SEM,\n",
    "})\n",
    "\n",
    "# format to three signifcant figures\n",
    "\n",
    "tVol_dReg_df['Mean Tumor Vol mm3'] = tVol_dReg_df['Mean Tumor Vol mm3'].map('{:,.3f}'.format)\n",
    "tVol_dReg_df['Median Tumor Vol mm3'] = tVol_dReg_df['Median Tumor Vol mm3'].map('{:,.3f}'.format)\n",
    "tVol_dReg_df['Variance of Tumor Vol mm3'] = tVol_dReg_df['Variance of Tumor Vol mm3'].map('{:,.3f}'.format)\n",
    "tVol_dReg_df['Std. Dev. Tumor Vol mm3'] = tVol_dReg_df['Std. Dev. Tumor Vol mm3'].map('{:,.3f}'.format)\n",
    "tVol_dReg_df['Std. Err. Tumor Vol mm3'] = tVol_dReg_df['Std. Err. Tumor Vol mm3'].map('{:,.3f}'.format)\n",
    "\n",
    "summary_stats_df = tVol_dReg_df\n",
    "summary_stats_df"
   ]
  },
  {
   "cell_type": "code",
   "execution_count": 21,
   "id": "df632ffd",
   "metadata": {},
   "outputs": [
    {
     "data": {
      "text/html": [
       "<div>\n",
       "<style scoped>\n",
       "    .dataframe tbody tr th:only-of-type {\n",
       "        vertical-align: middle;\n",
       "    }\n",
       "\n",
       "    .dataframe tbody tr th {\n",
       "        vertical-align: top;\n",
       "    }\n",
       "\n",
       "    .dataframe thead tr th {\n",
       "        text-align: left;\n",
       "    }\n",
       "\n",
       "    .dataframe thead tr:last-of-type th {\n",
       "        text-align: right;\n",
       "    }\n",
       "</style>\n",
       "<table border=\"1\" class=\"dataframe\">\n",
       "  <thead>\n",
       "    <tr>\n",
       "      <th></th>\n",
       "      <th colspan=\"5\" halign=\"left\">Tumor Volume (mm3)</th>\n",
       "    </tr>\n",
       "    <tr>\n",
       "      <th></th>\n",
       "      <th>mean</th>\n",
       "      <th>median</th>\n",
       "      <th>var</th>\n",
       "      <th>std</th>\n",
       "      <th>sem</th>\n",
       "    </tr>\n",
       "    <tr>\n",
       "      <th>Drug Regimen</th>\n",
       "      <th></th>\n",
       "      <th></th>\n",
       "      <th></th>\n",
       "      <th></th>\n",
       "      <th></th>\n",
       "    </tr>\n",
       "  </thead>\n",
       "  <tbody>\n",
       "    <tr>\n",
       "      <th>Capomulin</th>\n",
       "      <td>40.675741</td>\n",
       "      <td>41.557809</td>\n",
       "      <td>24.947764</td>\n",
       "      <td>4.994774</td>\n",
       "      <td>0.329346</td>\n",
       "    </tr>\n",
       "    <tr>\n",
       "      <th>Ceftamin</th>\n",
       "      <td>52.591172</td>\n",
       "      <td>51.776157</td>\n",
       "      <td>39.290177</td>\n",
       "      <td>6.268188</td>\n",
       "      <td>0.469821</td>\n",
       "    </tr>\n",
       "    <tr>\n",
       "      <th>Infubinol</th>\n",
       "      <td>52.884795</td>\n",
       "      <td>51.820584</td>\n",
       "      <td>43.128684</td>\n",
       "      <td>6.567243</td>\n",
       "      <td>0.492236</td>\n",
       "    </tr>\n",
       "    <tr>\n",
       "      <th>Ketapril</th>\n",
       "      <td>55.235638</td>\n",
       "      <td>53.698743</td>\n",
       "      <td>68.553577</td>\n",
       "      <td>8.279709</td>\n",
       "      <td>0.603860</td>\n",
       "    </tr>\n",
       "    <tr>\n",
       "      <th>Naftisol</th>\n",
       "      <td>54.331565</td>\n",
       "      <td>52.509285</td>\n",
       "      <td>66.173479</td>\n",
       "      <td>8.134708</td>\n",
       "      <td>0.596466</td>\n",
       "    </tr>\n",
       "    <tr>\n",
       "      <th>Placebo</th>\n",
       "      <td>54.033581</td>\n",
       "      <td>52.288934</td>\n",
       "      <td>61.168083</td>\n",
       "      <td>7.821003</td>\n",
       "      <td>0.581331</td>\n",
       "    </tr>\n",
       "    <tr>\n",
       "      <th>Propriva</th>\n",
       "      <td>52.320930</td>\n",
       "      <td>50.446266</td>\n",
       "      <td>43.852013</td>\n",
       "      <td>6.622085</td>\n",
       "      <td>0.544332</td>\n",
       "    </tr>\n",
       "    <tr>\n",
       "      <th>Ramicane</th>\n",
       "      <td>40.216745</td>\n",
       "      <td>40.673236</td>\n",
       "      <td>23.486704</td>\n",
       "      <td>4.846308</td>\n",
       "      <td>0.320955</td>\n",
       "    </tr>\n",
       "    <tr>\n",
       "      <th>Stelasyn</th>\n",
       "      <td>54.233149</td>\n",
       "      <td>52.431737</td>\n",
       "      <td>59.450562</td>\n",
       "      <td>7.710419</td>\n",
       "      <td>0.573111</td>\n",
       "    </tr>\n",
       "    <tr>\n",
       "      <th>Zoniferol</th>\n",
       "      <td>53.236507</td>\n",
       "      <td>51.818479</td>\n",
       "      <td>48.533355</td>\n",
       "      <td>6.966589</td>\n",
       "      <td>0.516398</td>\n",
       "    </tr>\n",
       "  </tbody>\n",
       "</table>\n",
       "</div>"
      ],
      "text/plain": [
       "             Tumor Volume (mm3)                                          \n",
       "                           mean     median        var       std       sem\n",
       "Drug Regimen                                                             \n",
       "Capomulin             40.675741  41.557809  24.947764  4.994774  0.329346\n",
       "Ceftamin              52.591172  51.776157  39.290177  6.268188  0.469821\n",
       "Infubinol             52.884795  51.820584  43.128684  6.567243  0.492236\n",
       "Ketapril              55.235638  53.698743  68.553577  8.279709  0.603860\n",
       "Naftisol              54.331565  52.509285  66.173479  8.134708  0.596466\n",
       "Placebo               54.033581  52.288934  61.168083  7.821003  0.581331\n",
       "Propriva              52.320930  50.446266  43.852013  6.622085  0.544332\n",
       "Ramicane              40.216745  40.673236  23.486704  4.846308  0.320955\n",
       "Stelasyn              54.233149  52.431737  59.450562  7.710419  0.573111\n",
       "Zoniferol             53.236507  51.818479  48.533355  6.966589  0.516398"
      ]
     },
     "execution_count": 21,
     "metadata": {},
     "output_type": "execute_result"
    }
   ],
   "source": [
    "# pass arguments across columns in .agg() by using a dict to specify the columns and then a list of operations\n",
    "aggregated_df = clean_df.groupby(['Drug Regimen']).agg({'Tumor Volume (mm3)':['mean','median','var','std','sem']})\n",
    "aggregated_df"
   ]
  },
  {
   "cell_type": "markdown",
   "id": "4210837d",
   "metadata": {},
   "source": [
    "# Bar and Pie Charts ------------------------------------------------"
   ]
  },
  {
   "cell_type": "markdown",
   "id": "4fa2e91a",
   "metadata": {},
   "source": [
    "### Bar Chart - Matplotlib"
   ]
  },
  {
   "cell_type": "code",
   "execution_count": 22,
   "id": "7916aa86",
   "metadata": {},
   "outputs": [],
   "source": [
    "# obtain values\n",
    "test_per_drug = clean_df['Drug Regimen'].value_counts()\n",
    "# isolate Labels by taking the index values and moving to list\n",
    "\n",
    "drug_list = clean_df['Drug Regimen'].value_counts().index.to_list()\n",
    "# drug_list\n",
    "\n",
    "# isolate the number of mice tested per drug by moving the counts of each drug to list\n",
    "mice_tested = clean_df['Drug Regimen'].value_counts().to_list()\n",
    "# mice_tested"
   ]
  },
  {
   "cell_type": "code",
   "execution_count": 23,
   "id": "f929a487",
   "metadata": {},
   "outputs": [
    {
     "data": {
      "image/png": "[encoded data removed]",
      "text/plain": [
       "<Figure size 432x288 with 1 Axes>"
      ]
     },
     "metadata": {
      "needs_background": "light"
     },
     "output_type": "display_data"
    }
   ],
   "source": [
    "# Plot\n",
    "plt.bar(drug_list, mice_tested)\n",
    "plt.xlabel('Drug Regimen')\n",
    "plt.xticks(rotation=45)\n",
    "plt.ylabel('Number of Mice Tested')\n",
    "plt.title('Mice Tested per Drug Regimen')\n",
    "plt.show()"
   ]
  },
  {
   "cell_type": "markdown",
   "id": "4a850935",
   "metadata": {},
   "source": [
    "### Bar Chart - Pandas"
   ]
  },
  {
   "cell_type": "code",
   "execution_count": 24,
   "id": "46cf404d",
   "metadata": {},
   "outputs": [
    {
     "data": {
      "image/png": "[encoded data removed]",
      "text/plain": [
       "<Figure size 432x288 with 1 Axes>"
      ]
     },
     "metadata": {
      "needs_background": "light"
     },
     "output_type": "display_data"
    }
   ],
   "source": [
    "test_per_drug.plot(kind='bar')\n",
    "plt.title('Mice Tested per Drug Regimen')\n",
    "plt.xlabel('Drug Regimen')\n",
    "plt.ylabel('Number of Mice Tested')\n",
    "plt.xticks(rotation=45)\n",
    "plt.show()"
   ]
  },
  {
   "cell_type": "markdown",
   "id": "b888ce18",
   "metadata": {},
   "source": [
    "### Pie Chart - Matplotlib"
   ]
  },
  {
   "cell_type": "code",
   "execution_count": 25,
   "id": "ace94755",
   "metadata": {},
   "outputs": [
    {
     "name": "stdout",
     "output_type": "stream",
     "text": [
      "[958, 922]---['Male', 'Female']\n"
     ]
    }
   ],
   "source": [
    "# isolate values\n",
    "gender_values = clean_df['Sex'].value_counts()\n",
    "# move numbers to list\n",
    "gender_counts = clean_df['Sex'].value_counts().to_list()\n",
    "# move index labels to list\n",
    "gender_labels = clean_df['Sex'].value_counts().index.to_list()\n",
    "# tabulate a total for no reason\n",
    "gender_total = sum(gender_counts)\n",
    "# double check [1,2] = [1,2clean_df]\n",
    "print(f\"{gender_counts}---{gender_labels}\")"
   ]
  },
  {
   "cell_type": "code",
   "execution_count": 26,
   "id": "96514cf1",
   "metadata": {},
   "outputs": [
    {
     "data": {
      "image/png": "[encoded data removed]",
      "text/plain": [
       "<Figure size 432x288 with 1 Axes>"
      ]
     },
     "metadata": {},
     "output_type": "display_data"
    }
   ],
   "source": [
    "#plt.pie(gender_counts, labels = gender_labels, pctdistance=0.75, labeldistance=0.1 ,startangle=90, autopct = '%1.1f%%')\n",
    "# the better pie chart lies above  ^\n",
    "\n",
    "# plot the chart\n",
    "plt.pie(gender_counts, labels = gender_labels, autopct = '%1.1f%%')\n",
    "plt.ylabel('Sex')\n",
    "plt.show()"
   ]
  },
  {
   "cell_type": "markdown",
   "id": "d3ec482a",
   "metadata": {},
   "source": [
    "### Pie Chart - Pandas"
   ]
  },
  {
   "cell_type": "code",
   "execution_count": 27,
   "id": "9d4c457d",
   "metadata": {},
   "outputs": [
    {
     "data": {
      "text/plain": [
       "<AxesSubplot:ylabel='Sex'>"
      ]
     },
     "execution_count": 27,
     "metadata": {},
     "output_type": "execute_result"
    },
    {
     "data": {
      "image/png": "[encoded data removed]",
      "text/plain": [
       "<Figure size 432x288 with 1 Axes>"
      ]
     },
     "metadata": {},
     "output_type": "display_data"
    }
   ],
   "source": [
    "gender_values.plot(kind='pie', autopct = '%1.1f%%')"
   ]
  },
  {
   "cell_type": "markdown",
   "id": "c275d8dc",
   "metadata": {},
   "source": [
    "# Quartiles, Outliers and Boxplots"
   ]
  },
  {
   "cell_type": "code",
   "execution_count": 28,
   "id": "85b69ad5",
   "metadata": {},
   "outputs": [
    {
     "data": {
      "text/html": [
       "<div>\n",
       "<style scoped>\n",
       "    .dataframe tbody tr th:only-of-type {\n",
       "        vertical-align: middle;\n",
       "    }\n",
       "\n",
       "    .dataframe tbody tr th {\n",
       "        vertical-align: top;\n",
       "    }\n",
       "\n",
       "    .dataframe thead th {\n",
       "        text-align: right;\n",
       "    }\n",
       "</style>\n",
       "<table border=\"1\" class=\"dataframe\">\n",
       "  <thead>\n",
       "    <tr style=\"text-align: right;\">\n",
       "      <th></th>\n",
       "      <th>Mouse ID</th>\n",
       "      <th>Timepoint</th>\n",
       "      <th>Drug Regimen</th>\n",
       "      <th>Sex</th>\n",
       "      <th>Age_months</th>\n",
       "      <th>Weight (g)</th>\n",
       "      <th>Tumor Volume (mm3)</th>\n",
       "      <th>Metastatic Sites</th>\n",
       "    </tr>\n",
       "  </thead>\n",
       "  <tbody>\n",
       "    <tr>\n",
       "      <th>0</th>\n",
       "      <td>a203</td>\n",
       "      <td>45</td>\n",
       "      <td>Infubinol</td>\n",
       "      <td>Female</td>\n",
       "      <td>20</td>\n",
       "      <td>23</td>\n",
       "      <td>67.973419</td>\n",
       "      <td>2</td>\n",
       "    </tr>\n",
       "    <tr>\n",
       "      <th>1</th>\n",
       "      <td>a251</td>\n",
       "      <td>45</td>\n",
       "      <td>Infubinol</td>\n",
       "      <td>Female</td>\n",
       "      <td>21</td>\n",
       "      <td>25</td>\n",
       "      <td>65.525743</td>\n",
       "      <td>1</td>\n",
       "    </tr>\n",
       "    <tr>\n",
       "      <th>2</th>\n",
       "      <td>a262</td>\n",
       "      <td>45</td>\n",
       "      <td>Placebo</td>\n",
       "      <td>Female</td>\n",
       "      <td>17</td>\n",
       "      <td>29</td>\n",
       "      <td>70.717621</td>\n",
       "      <td>4</td>\n",
       "    </tr>\n",
       "    <tr>\n",
       "      <th>3</th>\n",
       "      <td>a275</td>\n",
       "      <td>45</td>\n",
       "      <td>Ceftamin</td>\n",
       "      <td>Female</td>\n",
       "      <td>20</td>\n",
       "      <td>28</td>\n",
       "      <td>62.999356</td>\n",
       "      <td>3</td>\n",
       "    </tr>\n",
       "    <tr>\n",
       "      <th>4</th>\n",
       "      <td>a366</td>\n",
       "      <td>30</td>\n",
       "      <td>Stelasyn</td>\n",
       "      <td>Female</td>\n",
       "      <td>16</td>\n",
       "      <td>29</td>\n",
       "      <td>63.440686</td>\n",
       "      <td>1</td>\n",
       "    </tr>\n",
       "  </tbody>\n",
       "</table>\n",
       "</div>"
      ],
      "text/plain": [
       "  Mouse ID  Timepoint Drug Regimen     Sex  Age_months  Weight (g)  \\\n",
       "0     a203         45    Infubinol  Female          20          23   \n",
       "1     a251         45    Infubinol  Female          21          25   \n",
       "2     a262         45      Placebo  Female          17          29   \n",
       "3     a275         45     Ceftamin  Female          20          28   \n",
       "4     a366         30     Stelasyn  Female          16          29   \n",
       "\n",
       "   Tumor Volume (mm3)  Metastatic Sites  \n",
       "0           67.973419                 2  \n",
       "1           65.525743                 1  \n",
       "2           70.717621                 4  \n",
       "3           62.999356                 3  \n",
       "4           63.440686                 1  "
      ]
     },
     "execution_count": 28,
     "metadata": {},
     "output_type": "execute_result"
    }
   ],
   "source": [
    " # Calculate the final tumor volume of each mouse across four of the treatment regimens:  \n",
    "# Capomulin, Ramicane, Infubinol, and Ceftamin\n",
    "\n",
    "# Start by getting the last (greatest) timepoint for each mouse\n",
    "final_timepoint = clean_df.groupby(['Mouse ID'])['Timepoint'].max()\n",
    "\n",
    "# reset_index to convert to dataframe without using pd.DataFrame then mucking about with\n",
    "# reorganizing data\n",
    "final_timepoint = final_timepoint.reset_index()\n",
    "\n",
    "# Merge this group df with the original dataframe to get the tumor volume at the last timepoint\n",
    "# left merge to keep rows in the left dataframe: new_df = left_df.merge(right_df, on=['series'], how=left)\n",
    "# merge on the mouse ID and Timepoint to keep only the data with final timepoint b/c left merge\n",
    "complete_df = final_timepoint.merge(clean_df, on=['Mouse ID','Timepoint'], how='left')\n",
    "complete_df.head()"
   ]
  },
  {
   "cell_type": "markdown",
   "id": "13b7a26b",
   "metadata": {},
   "source": [
    "## Quartiles and Outliers"
   ]
  },
  {
   "cell_type": "code",
   "execution_count": 29,
   "id": "e0c57dfb",
   "metadata": {},
   "outputs": [
    {
     "name": "stdout",
     "output_type": "stream",
     "text": [
      " The only potential outlier is Infubinol: 31    36.321346\n",
      "Name: Tumor Volume (mm3), dtype: float64\n"
     ]
    }
   ],
   "source": [
    "# Put treatments into a list for for loop (and later for plot labels)\n",
    "treatment_list = ['Capomulin', 'Ramicane', 'Infubinol', 'Ceftamin']\n",
    "\n",
    "# Create empty list to fill with tumor vol data (for plotting)\n",
    "tVol_list = []\n",
    "outliers_list = []\n",
    "\n",
    "for drug in treatment_list:\n",
    "    # each time a drug in the list is equal to a drug & mouse ID, record the value in series Tumor Vol\n",
    "    final_tVol = complete_df.loc[complete_df['Drug Regimen'] == drug, 'Tumor Volume (mm3)']\n",
    "    # add found value to tumor_vol_list\n",
    "    tVol_list.append(final_tVol)\n",
    "    \n",
    "    # Determine outliers using upper and lower bounds\n",
    "\n",
    "    # .quantile requires sorted list - perform basic IQR calculations\n",
    "    quartiles = final_tVol.quantile([.25,.5,.75])\n",
    "    lowerq = quartiles[0.25]\n",
    "    upperq = quartiles[0.75]\n",
    "    iqr = upperq-lowerq\n",
    "    lower_bound = lowerq - (1.5*iqr)\n",
    "    upper_bound = upperq + (1.5*iqr)\n",
    "    # this compares the running final Tumor Volume against each Bound and adds true values to list\n",
    "    outliers = (final_tVol.loc[(final_tVol<lower_bound) | (final_tVol>upper_bound)])\n",
    "    outliers_list.append(outliers)\n",
    "print(f\" The only potential outlier is {treatment_list[2]}: {outliers_list[2]}\")"
   ]
  },
  {
   "cell_type": "code",
   "execution_count": 30,
   "id": "10d4100b",
   "metadata": {},
   "outputs": [
    {
     "data": {
      "image/png": "[encoded data removed]",
      "text/plain": [
       "<Figure size 432x288 with 1 Axes>"
      ]
     },
     "metadata": {
      "needs_background": "light"
     },
     "output_type": "display_data"
    }
   ],
   "source": [
    "# Generate a box plot of the final tumor volume of each mouse across four regimens of interest\n",
    "\n",
    "plt.boxplot(tVol_list, notch=True, patch_artist=True, labels=treatment_list,\n",
    "           boxprops=dict(facecolor='k', color='k'),\n",
    "           capprops=dict(color='k'),\n",
    "           whiskerprops=dict(color='k'),\n",
    "           flierprops=dict(markerfacecolor='b', markersize=10))\n",
    "plt.title('Potential Outliers across Treatment List')\n",
    "plt.ylabel('Final Tumor Volume (mm3)')\n",
    "plt.xlabel('Drug Used')\n",
    "# color time\n",
    "\n",
    "plt.rcParams['axes.axisbelow'] = True\n",
    "plt.grid()\n",
    "\n",
    "\n",
    "\n",
    "plt.show()"
   ]
  },
  {
   "cell_type": "markdown",
   "id": "4bdee9b6",
   "metadata": {},
   "source": [
    "# Line and Scatter Plots"
   ]
  },
  {
   "cell_type": "markdown",
   "id": "218a7c25",
   "metadata": {},
   "source": [
    "### Line Graph"
   ]
  },
  {
   "cell_type": "code",
   "execution_count": 31,
   "id": "b98603fb",
   "metadata": {},
   "outputs": [
    {
     "data": {
      "image/png": "[encoded data removed]",
      "text/plain": [
       "<Figure size 432x288 with 1 Axes>"
      ]
     },
     "metadata": {
      "needs_background": "light"
     },
     "output_type": "display_data"
    }
   ],
   "source": [
    "# gather data\n",
    "\n",
    "capomulin_data = clean_df.loc[clean_df['Drug Regimen'] == 'Capomulin']\n",
    "mouse_data = capomulin_data.loc[capomulin_data['Mouse ID'] == 's185']\n",
    "# set values for x & y\n",
    "s185_tvol = mouse_data['Tumor Volume (mm3)']\n",
    "s185_timepoint = mouse_data['Timepoint']\n",
    "# plot the line\n",
    "plt.plot(s185_timepoint,s185_tvol, marker='o')\n",
    "plt.xlabel('Timepoint')\n",
    "plt.ylabel('Tumor Volume (mm3)')\n",
    "plt.title('Capomulin Treatment - Tumor Vol over Time')\n",
    "plt.rcParams['axes.axisbelow'] = True\n",
    "plt.grid()\n",
    "plt.show()"
   ]
  },
  {
   "cell_type": "markdown",
   "id": "36092cbf",
   "metadata": {},
   "source": [
    "### Scatter Plot"
   ]
  },
  {
   "cell_type": "code",
   "execution_count": 32,
   "id": "e368bf41",
   "metadata": {},
   "outputs": [],
   "source": [
    "# obtain values\n",
    "\n",
    "# take the average of the table and set variables equal to what you need\n",
    "capomulin_averages = capomulin_data.groupby('Mouse ID').mean()\n",
    "avg_tVol = capomulin_averages['Tumor Volume (mm3)']\n",
    "avg_weight = capomulin_averages['Weight (g)']"
   ]
  },
  {
   "cell_type": "code",
   "execution_count": 33,
   "id": "690c0b8c",
   "metadata": {},
   "outputs": [
    {
     "data": {
      "image/png": "[encoded data removed]",
      "text/plain": [
       "<Figure size 432x288 with 1 Axes>"
      ]
     },
     "metadata": {
      "needs_background": "light"
     },
     "output_type": "display_data"
    }
   ],
   "source": [
    "# plot the data\n",
    "plt.scatter(avg_weight, avg_tVol)\n",
    "plt.ylabel('Average Tumor Vol (mm3)')\n",
    "plt.xlabel('Average Weight (g)')\n",
    "plt.title('Capomulin Treatment - Weight vs Tumor Vol')\n",
    "plt.rcParams['axes.axisbelow'] = True\n",
    "plt.grid()\n",
    "\n",
    "plt.show()"
   ]
  },
  {
   "cell_type": "markdown",
   "id": "af13f2ee",
   "metadata": {},
   "source": [
    "# Correlation and Regression"
   ]
  },
  {
   "cell_type": "code",
   "execution_count": 34,
   "id": "5bd341e5",
   "metadata": {},
   "outputs": [
    {
     "data": {
      "image/png": "[encoded data removed]",
      "text/plain": [
       "<Figure size 432x288 with 1 Axes>"
      ]
     },
     "metadata": {
      "needs_background": "light"
     },
     "output_type": "display_data"
    }
   ],
   "source": [
    "# display scatter chart\n",
    "\n",
    "plt.scatter(avg_weight, avg_tVol)\n",
    "plt.ylabel('Average Tumor Vol (mm3)')\n",
    "plt.xlabel('Average Weight (g)')\n",
    "plt.title('Capomulin Treatment - Tumor Vol vs Weight')\n",
    "\n",
    "# Calculate the values for linear regression\n",
    "avg_slope, avg_int, avg_r, avg_p, avg_std_err = st.linregress(avg_weight, avg_tVol)\n",
    "\n",
    "avg_fit = avg_slope * avg_weight + avg_int\n",
    "\n",
    "# plot line of best fit\n",
    "plt.plot(avg_weight, avg_fit, ':^k')\n",
    "plt.rcParams['axes.axisbelow'] = True\n",
    "plt.grid()\n",
    "plt.show()"
   ]
  },
  {
   "cell_type": "markdown",
   "id": "f512ef78",
   "metadata": {},
   "source": [
    "# Capomulin & Ramicane"
   ]
  },
  {
   "cell_type": "markdown",
   "id": "462d8f4a",
   "metadata": {},
   "source": [
    "#### Assemble Data"
   ]
  },
  {
   "cell_type": "code",
   "execution_count": 85,
   "id": "6714d7aa",
   "metadata": {},
   "outputs": [],
   "source": [
    "capomulin_data = clean_df.loc[clean_df['Drug Regimen'] == 'Capomulin']\n",
    "capomulin_averages = capomulin_data.groupby('Mouse ID').mean()\n",
    "avg_fit = avg_slope * avg_weight + avg_int\n",
    "avg_tVol_capomulin = capomulin_averages['Tumor Volume (mm3)']\n",
    "avg_weight_capomulin = capomulin_averages['Weight (g)']\n",
    "# plt.plot(avg_weight, avg_fit, ':^k')\n",
    "# plt.scatter(avg_weight_capomulin, avg_tVol_capomulin)\n",
    "# plt.ylabel('Average Tumor Vol (mm3)')\n",
    "# plt.xlabel('Average Weight (g)')\n",
    "# plt.title('Capomulin Treatment - Weight vs Tumor Vol')\n",
    "# plt.rcParams['axes.axisbelow'] = True\n",
    "# plt.grid()\n",
    "\n",
    "# --------------------------------------------------------------------------- #\n",
    "\n",
    "ramicane_data = clean_df.loc[clean_df['Drug Regimen'] == 'Ramicane']\n",
    "ramicane_averages = ramicane_data.groupby('Mouse ID').mean()\n",
    "ramicane_slope, ramicane_int, ramicane_r, ramicane_p, ramicane_std_err = st.linregress(avg_weight_ramicane, avg_tVol_ramicane)\n",
    "ramicane_fit = ramicane_slope * avg_weight_ramicane + ramicane_int\n",
    "# plt.plot(avg_weight_ramicane, ramicane_fit, ':^g')\n",
    "# avg_tVol_ramicane = ramicane_averages['Tumor Volume (mm3)']\n",
    "# avg_weight_ramicane = ramicane_averages['Weight (g)']\n",
    "# plt.scatter(avg_weight_ramicane, avg_tVol_ramicane)\n",
    "# plt.ylabel('Average Tumor Vol (mm3)')\n",
    "# plt.xlabel('Average Weight (g)')\n",
    "# plt.title('Ramicane Treatment - Weight vs Tumor Vol')\n",
    "# plt.rcParams['axes.axisbelow'] = True\n",
    "# plt.grid()\n",
    "# plt.show()\n",
    "\n",
    "\n"
   ]
  },
  {
   "cell_type": "markdown",
   "id": "f1e3de2a",
   "metadata": {},
   "source": [
    "### Construct Multifigure Graph"
   ]
  },
  {
   "cell_type": "code",
   "execution_count": 83,
   "id": "26677eb8",
   "metadata": {},
   "outputs": [
    {
     "data": {
      "image/png": "[encoded data removed]",
      "text/plain": [
       "<Figure size 432x288 with 2 Axes>"
      ]
     },
     "metadata": {
      "needs_background": "light"
     },
     "output_type": "display_data"
    }
   ],
   "source": [
    "fig, (ax1, ax2) = plt.subplots(2, sharex=True)\n",
    "fig.suptitle('Treatment - Avg Weight vs Tumor Vol.')\n",
    "ax1.scatter(avg_weight_capomulin, avg_tVol_capomulin, color='m')\n",
    "ax1.plot(avg_weight, avg_fit, ':^k')\n",
    "ax1.set_ylabel(\"Capomulin Treatment\")\n",
    "ax1.grid()\n",
    "\n",
    "ax2.scatter(avg_weight_ramicane, avg_tVol_ramicane, color='b')\n",
    "ax2.set_ylabel('Ramicane Treatment')\n",
    "ax2.plot(avg_weight_ramicane, ramicane_fit, ':^g')\n",
    "ax2.grid()"
   ]
  },
  {
   "cell_type": "markdown",
   "id": "f94a45a4",
   "metadata": {},
   "source": [
    "# Graph Drug Data - Average Weight vs Average Tumor Vol"
   ]
  },
  {
   "cell_type": "code",
   "execution_count": 56,
   "id": "099367cf",
   "metadata": {},
   "outputs": [
    {
     "name": "stdout",
     "output_type": "stream",
     "text": [
      "['Capomulin', 'Ramicane', 'Ketapril', 'Naftisol', 'Zoniferol', 'Stelasyn', 'Placebo', 'Ceftamin', 'Infubinol', 'Propriva']\n",
      "What drug averages would you like to see plotted? Ramicane\n"
     ]
    },
    {
     "data": {
      "image/png": "[encoded data removed]",
      "text/plain": [
       "<Figure size 432x288 with 1 Axes>"
      ]
     },
     "metadata": {
      "needs_background": "light"
     },
     "output_type": "display_data"
    }
   ],
   "source": [
    "# let the users see the options and spelling\n",
    "print(drug_list)\n",
    "\n",
    "treatment_drug = input(\"What drug averages would you like to see plotted? \")\n",
    "treatment_drug = str.title(treatment_drug).strip()\n",
    "\n",
    "# set variables\n",
    "drug_data = clean_df.loc[clean_df['Drug Regimen'] == (treatment_drug).strip()]\n",
    "drug_averages = drug_data.groupby('Mouse ID').mean()\n",
    "avg_tVol_drug = drug_averages['Tumor Volume (mm3)']\n",
    "avg_weight_drug = drug_averages['Weight (g)']\n",
    "plt.scatter(avg_weight_drug, avg_tVol_drug)\n",
    "plt.ylabel('Average Tumor Vol (mm3)')\n",
    "plt.xlabel('Average Weight (g)')\n",
    "plt.title(f'{treatment_drug} Treatment - Avg Weight vs Avg Tumor Vol')\n",
    "\n",
    "# Calculate the values for linear regression\n",
    "drug_slope,drug_int, drug_r, drug_p, drug_std_err = st.linregress(avg_weight_drug, avg_tVol_drug)\n",
    "\n",
    "drug_fit = drug_slope * avg_weight_drug + drug_int\n",
    "\n",
    "# plot line of best fit\n",
    "plt.plot(avg_weight_drug, drug_fit, ':^k')\n",
    "\n",
    "# keep this below all line arguments\n",
    "plt.rcParams['axes.axisbelow'] = True\n",
    "plt.grid()\n",
    "\n",
    "#plt.show()\n",
    "\n",
    "plt.savefig(f'resources\\\\visualizations\\\\{treatment_drug} Treatment_weight_v_tVol.png')\n"
   ]
  }
 ],
 "metadata": {
  "kernelspec": {
   "display_name": "Python 3",
   "language": "python",
   "name": "python3"
  },
  "language_info": {
   "codemirror_mode": {
    "name": "ipython",
    "version": 3
   },
   "file_extension": ".py",
   "mimetype": "text/x-python",
   "name": "python",
   "nbconvert_exporter": "python",
   "pygments_lexer": "ipython3",
   "version": "3.8.8"
  }
 },
 "nbformat": 4,
 "nbformat_minor": 5
}
